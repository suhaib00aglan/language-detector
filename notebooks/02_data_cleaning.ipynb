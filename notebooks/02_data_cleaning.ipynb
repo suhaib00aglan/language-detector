{
 "cells": [
  {
   "cell_type": "code",
   "execution_count": 9,
   "id": "fb677d17",
   "metadata": {},
   "outputs": [],
   "source": [
    "# الخلية 1: استيراد المكتبات\n",
    "import pandas as pd\n",
    "import re\n",
    "import numpy as np\n"
   ]
  },
  {
   "cell_type": "code",
   "execution_count": 10,
   "id": "a121573c",
   "metadata": {},
   "outputs": [
    {
     "name": "stdout",
     "output_type": "stream",
     "text": [
      "📊 البيانات الأصلية: (10337, 2)\n"
     ]
    }
   ],
   "source": [
    "# الخلية 2: تحميل البيانات\n",
    "data = pd.read_csv('../data/Language Detection.csv')\n",
    "print(\"📊 البيانات الأصلية:\", data.shape)"
   ]
  },
  {
   "cell_type": "code",
   "execution_count": 11,
   "id": "e85ca525",
   "metadata": {},
   "outputs": [
    {
     "name": "stdout",
     "output_type": "stream",
     "text": [
      "✅ تم تنظيف النصوص\n"
     ]
    }
   ],
   "source": [
    "# الخلية 3: تنظيف النصوص\n",
    "def clean_text(text):\n",
    "    if pd.isna(text):\n",
    "        return \"\"\n",
    "    \n",
    "    text = str(text)\n",
    "    # إزالة الأحرف الخاصة\n",
    "    text = re.sub(r'[^\\w\\s]', '', text)\n",
    "    # إزالة الأرقام\n",
    "    text = re.sub(r'\\d+', '', text)\n",
    "    # تحويل إلى حروف صغيرة\n",
    "    text = text.lower()\n",
    "    # إزالة المسافات الزائدة\n",
    "    text = re.sub(r'\\s+', ' ', text).strip()\n",
    "    return text\n",
    "\n",
    "data['cleaned_text'] = data['Text'].apply(clean_text)\n",
    "print(\"✅ تم تنظيف النصوص\")"
   ]
  },
  {
   "cell_type": "code",
   "execution_count": 12,
   "id": "993d9439",
   "metadata": {},
   "outputs": [
    {
     "name": "stdout",
     "output_type": "stream",
     "text": [
      "\n",
      "🔍 القيم المفقودة قبل المعالجة:\n",
      "Text            0\n",
      "Language        0\n",
      "cleaned_text    0\n",
      "dtype: int64\n",
      "📊 البيانات بعد حذف القيم المفقودة: (10337, 3)\n"
     ]
    }
   ],
   "source": [
    "# الخلية 4: التعامل مع القيم المفقودة\n",
    "print(\"\\n🔍 القيم المفقودة قبل المعالجة:\")\n",
    "print(data.isnull().sum())\n",
    "\n",
    "# حذف الصفوف التي تحتوي على قيم مفقودة\n",
    "data = data.dropna()\n",
    "print(\"📊 البيانات بعد حذف القيم المفقودة:\", data.shape)"
   ]
  },
  {
   "cell_type": "code",
   "execution_count": 13,
   "id": "e41eee52",
   "metadata": {},
   "outputs": [
    {
     "name": "stdout",
     "output_type": "stream",
     "text": [
      "\n",
      "🔍 عدد البيانات المكررة: 66\n",
      "✅ تم حذف البيانات المكررة\n"
     ]
    }
   ],
   "source": [
    "# الخلية 5: التعامل مع البيانات المكررة\n",
    "duplicates_count = data.duplicated().sum()\n",
    "print(f\"\\n🔍 عدد البيانات المكررة: {duplicates_count}\")\n",
    "\n",
    "if duplicates_count > 0:\n",
    "    data = data.drop_duplicates()\n",
    "    print(\"✅ تم حذف البيانات المكررة\")"
   ]
  },
  {
   "cell_type": "code",
   "execution_count": 14,
   "id": "d2011fb1",
   "metadata": {},
   "outputs": [
    {
     "name": "stdout",
     "output_type": "stream",
     "text": [
      "\n",
      "🌍 توزيع اللغات بعد التنظيف:\n",
      "Language\n",
      "English       1382\n",
      "French        1007\n",
      "Spanish        816\n",
      "Portugeese     736\n",
      "Italian        694\n",
      "Russian        688\n",
      "Sweedish       673\n",
      "Malayalam      591\n",
      "Dutch          542\n",
      "Arabic         532\n",
      "Turkish        471\n",
      "German         465\n",
      "Tamil          464\n",
      "Danish         424\n",
      "Kannada        366\n",
      "Greek          358\n",
      "Hindi           62\n",
      "Name: count, dtype: int64\n"
     ]
    }
   ],
   "source": [
    "# الخلية 6: التحقق من التوزيع بعد التنظيف\n",
    "print(\"\\n🌍 توزيع اللغات بعد التنظيف:\")\n",
    "print(data['Language'].value_counts())"
   ]
  },
  {
   "cell_type": "code",
   "execution_count": 15,
   "id": "db1d67cd",
   "metadata": {},
   "outputs": [
    {
     "name": "stdout",
     "output_type": "stream",
     "text": [
      "💾 تم حفظ البيانات النظيفة في cleaned_language_data.csv\n"
     ]
    }
   ],
   "source": [
    "# الخلية 7: حفظ البيانات النظيفة\n",
    "data.to_csv('../data/cleaned_language_data.csv', index=False)\n",
    "print(\"💾 تم حفظ البيانات النظيفة في cleaned_language_data.csv\")"
   ]
  },
  {
   "cell_type": "code",
   "execution_count": 16,
   "id": "094b72bd",
   "metadata": {},
   "outputs": [
    {
     "name": "stdout",
     "output_type": "stream",
     "text": [
      "\n",
      "📋 تقرير التنظيف:\n",
      "original_samples: 10271\n",
      "after_cleaning_samples: 10271\n",
      "removed_duplicates: 66\n",
      "final_languages: 17\n",
      "\n",
      "✅ تم الانتهاء من تنظيف البيانات!\n"
     ]
    }
   ],
   "source": [
    "# الخلية 8: تقرير التنظيف\n",
    "cleaning_report = {\n",
    "    \"original_samples\": data.shape[0],\n",
    "    \"after_cleaning_samples\": data.shape[0],\n",
    "    \"removed_duplicates\": duplicates_count,\n",
    "    \"final_languages\": data['Language'].nunique()\n",
    "}\n",
    "\n",
    "print(\"\\n📋 تقرير التنظيف:\")\n",
    "for key, value in cleaning_report.items():\n",
    "    print(f\"{key}: {value}\")\n",
    "\n",
    "print(\"\\n✅ تم الانتهاء من تنظيف البيانات!\")"
   ]
  }
 ],
 "metadata": {
  "kernelspec": {
   "display_name": "Python 3",
   "language": "python",
   "name": "python3"
  },
  "language_info": {
   "codemirror_mode": {
    "name": "ipython",
    "version": 3
   },
   "file_extension": ".py",
   "mimetype": "text/x-python",
   "name": "python",
   "nbconvert_exporter": "python",
   "pygments_lexer": "ipython3",
   "version": "3.12.4"
  }
 },
 "nbformat": 4,
 "nbformat_minor": 5
}
