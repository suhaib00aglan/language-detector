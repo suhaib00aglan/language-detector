{
 "cells": [
  {
   "cell_type": "code",
   "execution_count": 11,
   "id": "c6a1d5cf",
   "metadata": {},
   "outputs": [],
   "source": [
    "# الخلية 1: استيراد المكتبات\n",
    "import pandas as pd\n",
    "from sklearn.model_selection import train_test_split\n",
    "from sklearn.feature_extraction.text import TfidfVectorizer\n",
    "from sklearn.naive_bayes import MultinomialNB\n",
    "from sklearn.linear_model import LogisticRegression\n",
    "from sklearn.ensemble import RandomForestClassifier\n",
    "from sklearn.metrics import accuracy_score\n",
    "import joblib"
   ]
  },
  {
   "cell_type": "code",
   "execution_count": 12,
   "id": "7af90789",
   "metadata": {},
   "outputs": [
    {
     "name": "stdout",
     "output_type": "stream",
     "text": [
      "📊 البيانات النظيفة: (10271, 3)\n"
     ]
    }
   ],
   "source": [
    "# الخلية 2: تحميل البيانات النظيفة\n",
    "data = pd.read_csv('../data/cleaned_language_data.csv')\n",
    "data['cleaned_text'] = data['cleaned_text'].fillna('')  # معالجة القيم المفقودة في النصوص\n",
    "print(\"📊 البيانات النظيفة:\", data.shape)\n"
   ]
  },
  {
   "cell_type": "code",
   "execution_count": 13,
   "id": "6b9d58e7",
   "metadata": {},
   "outputs": [
    {
     "name": "stdout",
     "output_type": "stream",
     "text": [
      "📚 بيانات التدريب: 8216\n",
      "🧪 بيانات الاختبار: 2055\n"
     ]
    }
   ],
   "source": [
    "# الخلية 3: تقسيم البيانات\n",
    "X = data['cleaned_text']\n",
    "y = data['Language']\n",
    "\n",
    "X_train, X_test, y_train, y_test = train_test_split(\n",
    "    X, y, test_size=0.2, random_state=42, stratify=y\n",
    ")\n",
    "\n",
    "print(f\"📚 بيانات التدريب: {X_train.shape[0]}\")\n",
    "print(f\"🧪 بيانات الاختبار: {X_test.shape[0]}\")\n"
   ]
  },
  {
   "cell_type": "code",
   "execution_count": 14,
   "id": "b6c82004",
   "metadata": {},
   "outputs": [
    {
     "name": "stdout",
     "output_type": "stream",
     "text": [
      "🔢 شكل بيانات التدريب بعد التحويل: (8216, 5000)\n",
      "🔢 شكل بيانات الاختبار بعد التحويل: (2055, 5000)\n"
     ]
    }
   ],
   "source": [
    "# الخلية 4: تحويل النصوص إلى متجهات رقمية\n",
    "vectorizer = TfidfVectorizer(\n",
    "    ngram_range=(1, 2),\n",
    "    max_features=5000,\n",
    "    stop_words=None\n",
    ")\n",
    "\n",
    "X_train_vec = vectorizer.fit_transform(X_train)\n",
    "X_test_vec = vectorizer.transform(X_test)\n",
    "\n",
    "print(f\"🔢 شكل بيانات التدريب بعد التحويل: {X_train_vec.shape}\")\n",
    "print(f\"🔢 شكل بيانات الاختبار بعد التحويل: {X_test_vec.shape}\")"
   ]
  },
  {
   "cell_type": "code",
   "execution_count": 15,
   "id": "e9386754",
   "metadata": {},
   "outputs": [
    {
     "name": "stdout",
     "output_type": "stream",
     "text": [
      "🔁 تدريب Naive Bayes...\n",
      "📊 دقة Naive Bayes: 0.9401\n",
      "🔁 تدريب Logistic Regression...\n",
      "📊 دقة Logistic Regression: 0.9397\n",
      "🔁 تدريب Random Forest...\n",
      "📊 دقة Random Forest: 0.9202\n"
     ]
    }
   ],
   "source": [
    "# الخلية 5: تجربة نماذج مختلفة\n",
    "models = {\n",
    "    'Naive Bayes': MultinomialNB(),\n",
    "    'Logistic Regression': LogisticRegression(max_iter=1000, random_state=42),\n",
    "    'Random Forest': RandomForestClassifier(n_estimators=100, random_state=42)\n",
    "}\n",
    "\n",
    "results = {}\n",
    "\n",
    "for name, model in models.items():\n",
    "    print(f\"🔁 تدريب {name}...\")\n",
    "    model.fit(X_train_vec, y_train)\n",
    "    y_pred = model.predict(X_test_vec)\n",
    "    accuracy = accuracy_score(y_test, y_pred)\n",
    "    results[name] = accuracy\n",
    "    print(f\"📊 دقة {name}: {accuracy:.4f}\")"
   ]
  },
  {
   "cell_type": "code",
   "execution_count": 16,
   "id": "d89e19c2",
   "metadata": {},
   "outputs": [
    {
     "name": "stdout",
     "output_type": "stream",
     "text": [
      "\n",
      "🎯 أفضل نموذج: Naive Bayes بدقة 0.9401\n"
     ]
    }
   ],
   "source": [
    "# الخلية 6: اختيار أفضل نموذج\n",
    "best_model_name = max(results, key=results.get)\n",
    "best_model = models[best_model_name]\n",
    "\n",
    "print(f\"\\n🎯 أفضل نموذج: {best_model_name} بدقة {results[best_model_name]:.4f}\")"
   ]
  },
  {
   "cell_type": "code",
   "execution_count": 17,
   "id": "b8bcbfb7",
   "metadata": {},
   "outputs": [
    {
     "name": "stdout",
     "output_type": "stream",
     "text": [
      "💾 تم حفظ النموذج وأداة التحويل\n"
     ]
    }
   ],
   "source": [
    "# الخلية 7: حفظ النموذج وأداة التحويل\n",
    "joblib.dump(best_model, '../models/language_model.pkl')\n",
    "joblib.dump(vectorizer, '../models/vectorizer.pkl')\n",
    "\n",
    "print(\"💾 تم حفظ النموذج وأداة التحويل\")\n"
   ]
  },
  {
   "cell_type": "code",
   "execution_count": 18,
   "id": "23c85aaf",
   "metadata": {},
   "outputs": [
    {
     "name": "stdout",
     "output_type": "stream",
     "text": [
      "\n",
      "📋 تقرير التدريب:\n",
      "best_model: Naive Bayes\n",
      "best_accuracy: 0.9401459854014599\n",
      "all_models_accuracy: {'Naive Bayes': 0.9401459854014599, 'Logistic Regression': 0.9396593673965937, 'Random Forest': 0.9201946472019464}\n",
      "training_samples: 8216\n",
      "test_samples: 2055\n",
      "features_count: 5000\n",
      "\n",
      "✅ تم الانتهاء من تدريب النموذج!\n"
     ]
    }
   ],
   "source": [
    "# الخلية 8: تقرير التدريب\n",
    "training_report = {\n",
    "    \"best_model\": best_model_name,\n",
    "    \"best_accuracy\": results[best_model_name],\n",
    "    \"all_models_accuracy\": results,\n",
    "    \"training_samples\": X_train_vec.shape[0],\n",
    "    \"test_samples\": X_test_vec.shape[0],\n",
    "    \"features_count\": X_train_vec.shape[1]\n",
    "}\n",
    "\n",
    "print(\"\\n📋 تقرير التدريب:\")\n",
    "for key, value in training_report.items():\n",
    "    print(f\"{key}: {value}\")\n",
    "\n",
    "print(\"\\n✅ تم الانتهاء من تدريب النموذج!\")"
   ]
  }
 ],
 "metadata": {
  "kernelspec": {
   "display_name": "Python 3",
   "language": "python",
   "name": "python3"
  },
  "language_info": {
   "codemirror_mode": {
    "name": "ipython",
    "version": 3
   },
   "file_extension": ".py",
   "mimetype": "text/x-python",
   "name": "python",
   "nbconvert_exporter": "python",
   "pygments_lexer": "ipython3",
   "version": "3.12.4"
  }
 },
 "nbformat": 4,
 "nbformat_minor": 5
}
